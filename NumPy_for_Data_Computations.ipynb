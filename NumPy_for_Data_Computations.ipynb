{
  "nbformat": 4,
  "nbformat_minor": 0,
  "metadata": {
    "colab": {
      "provenance": [],
      "toc_visible": true
    },
    "kernelspec": {
      "name": "python3",
      "display_name": "Python 3"
    },
    "language_info": {
      "name": "python"
    }
  },
  "cells": [
    {
      "cell_type": "markdown",
      "source": [
        "**Author: Rameshwar L Kumawat, Georgia Tech**"
      ],
      "metadata": {
        "id": "Vhp6rU3_wdOo"
      }
    },
    {
      "cell_type": "markdown",
      "source": [
        "# *1. Creating an Array in NumPy*"
      ],
      "metadata": {
        "id": "WbunH3TgTJln"
      }
    },
    {
      "cell_type": "code",
      "execution_count": null,
      "metadata": {
        "id": "e6W42Z5zRQIK"
      },
      "outputs": [],
      "source": [
        "#! Importing numpy from colab\n",
        "\n",
        "import numpy as np"
      ]
    },
    {
      "cell_type": "code",
      "source": [
        "#! Creating a simple 1D array: vector\n",
        "\n",
        "np.array([1,2,3,4,5])"
      ],
      "metadata": {
        "colab": {
          "base_uri": "https://localhost:8080/"
        },
        "id": "-Lzzhhj-RpSe",
        "outputId": "219fdbdf-f3a5-46f8-c495-256a20f213a3"
      },
      "execution_count": null,
      "outputs": [
        {
          "output_type": "execute_result",
          "data": {
            "text/plain": [
              "array([1, 2, 3, 4, 5])"
            ]
          },
          "metadata": {},
          "execution_count": 2
        }
      ]
    },
    {
      "cell_type": "code",
      "source": [
        "#! Creating 2D array: matrix\n",
        "\n",
        "np.array([(1,2,3,4,5), (6,7,8,9,10)])"
      ],
      "metadata": {
        "colab": {
          "base_uri": "https://localhost:8080/"
        },
        "id": "P8zuaumVRxDk",
        "outputId": "6b3c25a9-27e7-462c-d9e8-71153007a7e2"
      },
      "execution_count": null,
      "outputs": [
        {
          "output_type": "execute_result",
          "data": {
            "text/plain": [
              "array([[ 1,  2,  3,  4,  5],\n",
              "       [ 6,  7,  8,  9, 10]])"
            ]
          },
          "metadata": {},
          "execution_count": 4
        }
      ]
    },
    {
      "cell_type": "code",
      "source": [
        "#! Creatin an array from a list\n",
        "\n",
        "num_list = [1,2,3,4,5]\n",
        "np.array(num_list)\n",
        "print(np.array(num_list))"
      ],
      "metadata": {
        "colab": {
          "base_uri": "https://localhost:8080/"
        },
        "id": "8yNbZ7KdR6dO",
        "outputId": "aa99a2b3-7dc1-48ac-8db6-ade9e97761e9"
      },
      "execution_count": null,
      "outputs": [
        {
          "output_type": "stream",
          "name": "stdout",
          "text": [
            "[1 2 3 4 5]\n"
          ]
        }
      ]
    },
    {
      "cell_type": "markdown",
      "source": [
        "## 1.1 Generating an Array\n",
        "\n",
        "NumPy offers various options to generate an array depending on particular need, such as\n",
        "\n",
        "*   Generating An Identity Array\n",
        "*   Generating Zero Array of a Given Size\n",
        "*   Generating Ones Array of a Given Size\n",
        "*   Generating An Array in a Given Range\n",
        "*   Generating Zero Array with Random Values\n",
        "\n",
        "\n",
        "\n",
        "\n"
      ],
      "metadata": {
        "id": "MVM1iA45Syj9"
      }
    },
    {
      "cell_type": "code",
      "source": [
        "#! Generating An Identity Array\n",
        "\n",
        "identity_array = np.identity(4)\n",
        "print(identity_array)"
      ],
      "metadata": {
        "colab": {
          "base_uri": "https://localhost:8080/"
        },
        "id": "LoDK2tc5SK8N",
        "outputId": "42260c3d-fd2d-4fa4-bed4-de4c488c7639"
      },
      "execution_count": null,
      "outputs": [
        {
          "output_type": "stream",
          "name": "stdout",
          "text": [
            "[[1. 0. 0. 0.]\n",
            " [0. 1. 0. 0.]\n",
            " [0. 0. 1. 0.]\n",
            " [0. 0. 0. 1.]]\n"
          ]
        }
      ]
    },
    {
      "cell_type": "code",
      "source": [
        "#! Generating An Identity Matrix of 1s\n",
        "\n",
        "np.eye(4)"
      ],
      "metadata": {
        "colab": {
          "base_uri": "https://localhost:8080/"
        },
        "id": "OTb9q-kaUS4M",
        "outputId": "6c7532b7-11e9-4762-fe8e-b55944abdf70"
      },
      "execution_count": null,
      "outputs": [
        {
          "output_type": "execute_result",
          "data": {
            "text/plain": [
              "array([[1., 0., 0., 0.],\n",
              "       [0., 1., 0., 0.],\n",
              "       [0., 0., 1., 0.],\n",
              "       [0., 0., 0., 1.]])"
            ]
          },
          "metadata": {},
          "execution_count": 7
        }
      ]
    },
    {
      "cell_type": "code",
      "source": [
        "#! We Can Multiply with Any Constant\n",
        "\n",
        "np.eye(4) * 5"
      ],
      "metadata": {
        "colab": {
          "base_uri": "https://localhost:8080/"
        },
        "id": "Fr8T7ojjUYqI",
        "outputId": "266dd378-f35b-4618-dad6-1a472207c512"
      },
      "execution_count": null,
      "outputs": [
        {
          "output_type": "execute_result",
          "data": {
            "text/plain": [
              "array([[5., 0., 0., 0.],\n",
              "       [0., 5., 0., 0.],\n",
              "       [0., 0., 5., 0.],\n",
              "       [0., 0., 0., 5.]])"
            ]
          },
          "metadata": {},
          "execution_count": 9
        }
      ]
    },
    {
      "cell_type": "code",
      "source": [
        "#! Generating Zero Array of a Given Size\n",
        "#! 1D Zero Array\n",
        "np.zeros(4)"
      ],
      "metadata": {
        "colab": {
          "base_uri": "https://localhost:8080/"
        },
        "id": "JvwkYzAIUkxv",
        "outputId": "592cc188-0b53-4e9c-c8dd-baa4c54208dd"
      },
      "execution_count": null,
      "outputs": [
        {
          "output_type": "execute_result",
          "data": {
            "text/plain": [
              "array([0., 0., 0., 0.])"
            ]
          },
          "metadata": {},
          "execution_count": 10
        }
      ]
    },
    {
      "cell_type": "code",
      "source": [
        "#! Generating Zero Array of a Given Size\n",
        "#! 2D Zero Array: Pass the tuple of rowa and columns' number\n",
        "#! np.zeros((row, columns))\n",
        "\n",
        "np.zeros((4,6))"
      ],
      "metadata": {
        "colab": {
          "base_uri": "https://localhost:8080/"
        },
        "id": "rnNCVZJ0U3EY",
        "outputId": "3fbbf854-e648-40bf-fe9c-8c050f4e6bc2"
      },
      "execution_count": null,
      "outputs": [
        {
          "output_type": "execute_result",
          "data": {
            "text/plain": [
              "array([[0., 0., 0., 0., 0., 0.],\n",
              "       [0., 0., 0., 0., 0., 0.],\n",
              "       [0., 0., 0., 0., 0., 0.],\n",
              "       [0., 0., 0., 0., 0., 0.]])"
            ]
          },
          "metadata": {},
          "execution_count": 12
        }
      ]
    },
    {
      "cell_type": "code",
      "source": [
        "#! Generating Ones Array of a Given Size\n",
        "#! 1D One Array\n",
        "\n",
        "np.ones(4)"
      ],
      "metadata": {
        "colab": {
          "base_uri": "https://localhost:8080/"
        },
        "id": "Q7PuHrLqVNGS",
        "outputId": "a6f59c40-8af8-48f0-8089-5bba725ca730"
      },
      "execution_count": null,
      "outputs": [
        {
          "output_type": "execute_result",
          "data": {
            "text/plain": [
              "array([1., 1., 1., 1.])"
            ]
          },
          "metadata": {},
          "execution_count": 13
        }
      ]
    },
    {
      "cell_type": "code",
      "source": [
        "#! Generating Ones Array of a Given Size\n",
        "#! 2D One Array: Pass the tuple of rowa and columns' number\n",
        "#! np.zeros((row, columns))\n",
        "\n",
        "np.ones((4,6))"
      ],
      "metadata": {
        "colab": {
          "base_uri": "https://localhost:8080/"
        },
        "id": "7S2EZgrwVat6",
        "outputId": "265ff43f-f38a-4f8a-e807-fb470fd202d9"
      },
      "execution_count": null,
      "outputs": [
        {
          "output_type": "execute_result",
          "data": {
            "text/plain": [
              "array([[1., 1., 1., 1., 1., 1.],\n",
              "       [1., 1., 1., 1., 1., 1.],\n",
              "       [1., 1., 1., 1., 1., 1.],\n",
              "       [1., 1., 1., 1., 1., 1.]])"
            ]
          },
          "metadata": {},
          "execution_count": 14
        }
      ]
    },
    {
      "cell_type": "code",
      "source": [],
      "metadata": {
        "id": "w2WpVlLlVisP"
      },
      "execution_count": null,
      "outputs": []
    }
  ]
}