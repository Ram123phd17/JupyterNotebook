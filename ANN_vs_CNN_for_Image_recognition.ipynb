{
  "nbformat": 4,
  "nbformat_minor": 0,
  "metadata": {
    "colab": {
      "provenance": []
    },
    "kernelspec": {
      "name": "python3",
      "display_name": "Python 3"
    },
    "language_info": {
      "name": "python"
    }
  },
  "cells": [
    {
      "cell_type": "markdown",
      "source": [
        "**ANN and CNN for recognition of random images**"
      ],
      "metadata": {
        "id": "kx_JXENleeD7"
      }
    },
    {
      "cell_type": "markdown",
      "source": [
        "**Author: Rameshwar L Kumawawt, Georgia Tech**"
      ],
      "metadata": {
        "id": "3b5WSTvKxLdp"
      }
    },
    {
      "cell_type": "markdown",
      "source": [
        "**The CIFAR-10 dataset**\n",
        "\n",
        "The CIFAR-10 dataset consists of 60000 32x32 colour images in 10 classes, with 6000 images per class.\n",
        "\n",
        "In this dataset, there are 10000 test images and 50000 training images."
      ],
      "metadata": {
        "id": "nFU-U7Ncen4a"
      }
    },
    {
      "cell_type": "markdown",
      "source": [
        "**1. Load All the Essential Libraries**"
      ],
      "metadata": {
        "id": "lAhfFbIhfIz0"
      }
    },
    {
      "cell_type": "code",
      "execution_count": null,
      "metadata": {
        "id": "dJ1kORKHeSim"
      },
      "outputs": [],
      "source": [
        "import tensorflow as tf\n",
        "from tensorflow.keras import datasets, layers, models\n",
        "import matplotlib.pyplot as plt\n",
        "import numpy as np"
      ]
    },
    {
      "cell_type": "code",
      "source": [
        "(X_train, y_train), (X_test, y_test) = datasets.cifar10.load_data()"
      ],
      "metadata": {
        "colab": {
          "base_uri": "https://localhost:8080/"
        },
        "id": "JYS1Wi0efaNv",
        "outputId": "e8b43de4-93db-4365-af96-6d24469a1c50"
      },
      "execution_count": null,
      "outputs": [
        {
          "output_type": "stream",
          "name": "stdout",
          "text": [
            "Downloading data from https://www.cs.toronto.edu/~kriz/cifar-10-python.tar.gz\n",
            "170500096/170498071 [==============================] - 5s 0us/step\n",
            "170508288/170498071 [==============================] - 5s 0us/step\n"
          ]
        }
      ]
    },
    {
      "cell_type": "code",
      "source": [
        "X_train.shape"
      ],
      "metadata": {
        "colab": {
          "base_uri": "https://localhost:8080/"
        },
        "id": "ZPZDI8J7fuCF",
        "outputId": "cd505352-2814-4ade-c469-f6b4e4656172"
      },
      "execution_count": null,
      "outputs": [
        {
          "output_type": "execute_result",
          "data": {
            "text/plain": [
              "(50000, 32, 32, 3)"
            ]
          },
          "metadata": {},
          "execution_count": 6
        }
      ]
    },
    {
      "cell_type": "code",
      "source": [
        "X_test.shape"
      ],
      "metadata": {
        "colab": {
          "base_uri": "https://localhost:8080/"
        },
        "id": "yqI4zePmfxCJ",
        "outputId": "6f135a34-beb4-4676-b106-044c854c57a1"
      },
      "execution_count": null,
      "outputs": [
        {
          "output_type": "execute_result",
          "data": {
            "text/plain": [
              "(10000, 32, 32, 3)"
            ]
          },
          "metadata": {},
          "execution_count": 7
        }
      ]
    },
    {
      "cell_type": "code",
      "source": [
        "y_train.shape"
      ],
      "metadata": {
        "colab": {
          "base_uri": "https://localhost:8080/"
        },
        "id": "zpMK10UMgVg6",
        "outputId": "a5338824-5896-46e3-e222-0390c707b930"
      },
      "execution_count": null,
      "outputs": [
        {
          "output_type": "execute_result",
          "data": {
            "text/plain": [
              "(50000, 1)"
            ]
          },
          "metadata": {},
          "execution_count": 8
        }
      ]
    },
    {
      "cell_type": "code",
      "source": [
        "y_train[:5]"
      ],
      "metadata": {
        "colab": {
          "base_uri": "https://localhost:8080/"
        },
        "id": "BiPe5HL7gaVJ",
        "outputId": "c0557cbb-9d68-47f2-af07-43b4aef6da83"
      },
      "execution_count": null,
      "outputs": [
        {
          "output_type": "execute_result",
          "data": {
            "text/plain": [
              "array([[6],\n",
              "       [9],\n",
              "       [9],\n",
              "       [4],\n",
              "       [1]], dtype=uint8)"
            ]
          },
          "metadata": {},
          "execution_count": 9
        }
      ]
    },
    {
      "cell_type": "code",
      "source": [
        "y_train = y_train.reshape(-1,)\n",
        "y_train[:5]"
      ],
      "metadata": {
        "colab": {
          "base_uri": "https://localhost:8080/"
        },
        "id": "0JIbtS1DgnOF",
        "outputId": "6b72384c-2da8-460e-bb7c-a2f73cf17e59"
      },
      "execution_count": null,
      "outputs": [
        {
          "output_type": "execute_result",
          "data": {
            "text/plain": [
              "array([6, 9, 9, 4, 1], dtype=uint8)"
            ]
          },
          "metadata": {},
          "execution_count": 10
        }
      ]
    },
    {
      "cell_type": "code",
      "source": [
        "classes = [\"airplane\", \"automobile\", \"brid\", \"cat\", \"deer\", \"dog\", \"frog\", \"horse\", \"ship\", \"truck\"]"
      ],
      "metadata": {
        "id": "SRJRn1XKhCVT"
      },
      "execution_count": null,
      "outputs": []
    },
    {
      "cell_type": "code",
      "source": [
        "def plot_sample(X, y, index):\n",
        "  plt.figure(figsize = (15,2))\n",
        "  plt.imshow(X[index])\n",
        "  plt.xlabel(classes[y[index]])"
      ],
      "metadata": {
        "id": "BjdkwyiHfyZO"
      },
      "execution_count": null,
      "outputs": []
    },
    {
      "cell_type": "code",
      "source": [
        "plot_sample(X_train, y_train, 0)"
      ],
      "metadata": {
        "colab": {
          "base_uri": "https://localhost:8080/",
          "height": 173
        },
        "id": "O4MXktiRhRpE",
        "outputId": "b9202d68-e1a3-4e43-83e2-414ca0a96cb6"
      },
      "execution_count": null,
      "outputs": [
        {
          "output_type": "display_data",
          "data": {
            "text/plain": [
              "<Figure size 1080x144 with 1 Axes>"
            ],
            "image/png": "[encoded data removed]"
          },
          "metadata": {
            "needs_background": "light"
          }
        }
      ]
    },
    {
      "cell_type": "code",
      "source": [
        "plot_sample(X_train, y_train, 1)"
      ],
      "metadata": {
        "colab": {
          "base_uri": "https://localhost:8080/",
          "height": 173
        },
        "id": "zUSJTXsGhWuc",
        "outputId": "dbbf502e-e5f9-4a8c-c32a-083648d6695f"
      },
      "execution_count": null,
      "outputs": [
        {
          "output_type": "display_data",
          "data": {
            "text/plain": [
              "<Figure size 1080x144 with 1 Axes>"
            ],
            "image/png": "[encoded data removed]"
          },
          "metadata": {
            "needs_background": "light"
          }
        }
      ]
    },
    {
      "cell_type": "code",
      "source": [
        "plot_sample(X_train, y_train, 3)"
      ],
      "metadata": {
        "colab": {
          "base_uri": "https://localhost:8080/",
          "height": 173
        },
        "id": "A8TbLKxghr3M",
        "outputId": "00ad6949-fc67-4e89-fe19-38140895f156"
      },
      "execution_count": null,
      "outputs": [
        {
          "output_type": "display_data",
          "data": {
            "text/plain": [
              "<Figure size 1080x144 with 1 Axes>"
            ],
            "image/png": "[encoded data removed]"
          },
          "metadata": {
            "needs_background": "light"
          }
        }
      ]
    },
    {
      "cell_type": "markdown",
      "source": [
        "Now we want to normalize our data. To do that we need to divide our data by 255.0"
      ],
      "metadata": {
        "id": "f6zBTGQZhtW7"
      }
    },
    {
      "cell_type": "code",
      "source": [
        "X_train = X_train /255.0\n",
        "X_test = X_test /255.0"
      ],
      "metadata": {
        "id": "WYoBeDWyh1we"
      },
      "execution_count": null,
      "outputs": []
    },
    {
      "cell_type": "markdown",
      "source": [
        "**Model Building and Training**\n",
        "\n",
        "Now we will build a Aritificial Neural Network * Convolutional Neural Network"
      ],
      "metadata": {
        "id": "yHjcf2SPiBsx"
      }
    },
    {
      "cell_type": "code",
      "source": [
        "ann = models.Sequential([\n",
        "                        layers.Flatten(input_shape=(32,32,3)),\n",
        "                        layers.Dense(3000, activation='relu'),\n",
        "                        layers.Dense(1000, activation='relu'),\n",
        "                        layers.Dense(10, activation='sigmoid')\n",
        "])\n",
        "\n",
        "ann.compile(optimizer='SGD',\n",
        "            loss='sparse_categorical_crossentropy',\n",
        "            metrics=['accuracy'])\n",
        "ann.fit(X_train, y_train, epochs=10)"
      ],
      "metadata": {
        "colab": {
          "base_uri": "https://localhost:8080/"
        },
        "id": "CD2SkOnLh4Sn",
        "outputId": "622e9db9-2f68-4395-fb04-ccfcb8ababa7"
      },
      "execution_count": null,
      "outputs": [
        {
          "output_type": "stream",
          "name": "stdout",
          "text": [
            "Epoch 1/10\n",
            "1563/1563 [==============================] - 102s 65ms/step - loss: 1.8144 - accuracy: 0.3561\n",
            "Epoch 2/10\n",
            "1563/1563 [==============================] - 99s 64ms/step - loss: 1.6228 - accuracy: 0.4272\n",
            "Epoch 3/10\n",
            "1563/1563 [==============================] - 100s 64ms/step - loss: 1.5419 - accuracy: 0.4577\n",
            "Epoch 4/10\n",
            "1563/1563 [==============================] - 101s 64ms/step - loss: 1.4822 - accuracy: 0.4771\n",
            "Epoch 5/10\n",
            "1563/1563 [==============================] - 100s 64ms/step - loss: 1.4315 - accuracy: 0.4944\n",
            "Epoch 6/10\n",
            "1563/1563 [==============================] - 101s 65ms/step - loss: 1.3905 - accuracy: 0.5119\n",
            "Epoch 7/10\n",
            "1563/1563 [==============================] - 101s 65ms/step - loss: 1.3518 - accuracy: 0.5245\n",
            "Epoch 8/10\n",
            "1563/1563 [==============================] - 100s 64ms/step - loss: 1.3157 - accuracy: 0.5354\n",
            "Epoch 9/10\n",
            "1563/1563 [==============================] - 101s 64ms/step - loss: 1.2844 - accuracy: 0.5477\n",
            "Epoch 10/10\n",
            "1563/1563 [==============================] - 101s 65ms/step - loss: 1.2534 - accuracy: 0.5589\n"
          ]
        },
        {
          "output_type": "execute_result",
          "data": {
            "text/plain": [
              "<keras.callbacks.History at 0x7fe862f9f150>"
            ]
          },
          "metadata": {},
          "execution_count": 17
        }
      ]
    },
    {
      "cell_type": "code",
      "source": [
        "ann.evaluate(X_test, y_test)"
      ],
      "metadata": {
        "colab": {
          "base_uri": "https://localhost:8080/"
        },
        "id": "9VI7REqQkAFv",
        "outputId": "e656fd62-53bf-4643-f2a7-742a44679c42"
      },
      "execution_count": null,
      "outputs": [
        {
          "output_type": "stream",
          "name": "stdout",
          "text": [
            "313/313 [==============================] - 8s 25ms/step - loss: 1.4421 - accuracy: 0.4787\n"
          ]
        },
        {
          "output_type": "execute_result",
          "data": {
            "text/plain": [
              "[1.4421300888061523, 0.47870001196861267]"
            ]
          },
          "metadata": {},
          "execution_count": 18
        }
      ]
    },
    {
      "cell_type": "markdown",
      "source": [
        "**ANN Classification Report**"
      ],
      "metadata": {
        "id": "olj8fkPHkHYU"
      }
    },
    {
      "cell_type": "code",
      "source": [
        "from sklearn.metrics import confusion_matrix , classification_report\n",
        "import numpy as np\n",
        "y_pred = ann.predict(X_test)\n",
        "y_pred_classes  =[np.argmax(element) for element in y_pred]\n",
        "\n",
        "print(\"Classification Report: \\n\", classification_report(y_test, y_pred_classes))"
      ],
      "metadata": {
        "colab": {
          "base_uri": "https://localhost:8080/"
        },
        "id": "IWkwSs2pkLtT",
        "outputId": "0be2aa8a-1c80-484c-a484-f6df998ad6e1"
      },
      "execution_count": null,
      "outputs": [
        {
          "output_type": "stream",
          "name": "stdout",
          "text": [
            "Classification Report: \n",
            "               precision    recall  f1-score   support\n",
            "\n",
            "           0       0.50      0.64      0.56      1000\n",
            "           1       0.42      0.82      0.56      1000\n",
            "           2       0.43      0.30      0.35      1000\n",
            "           3       0.43      0.22      0.29      1000\n",
            "           4       0.34      0.61      0.43      1000\n",
            "           5       0.61      0.17      0.26      1000\n",
            "           6       0.53      0.57      0.55      1000\n",
            "           7       0.65      0.50      0.56      1000\n",
            "           8       0.57      0.67      0.61      1000\n",
            "           9       0.64      0.30      0.41      1000\n",
            "\n",
            "    accuracy                           0.48     10000\n",
            "   macro avg       0.51      0.48      0.46     10000\n",
            "weighted avg       0.51      0.48      0.46     10000\n",
            "\n"
          ]
        }
      ]
    },
    {
      "cell_type": "code",
      "source": [
        "cnn = models.Sequential([\n",
        "                         \n",
        "                         # cnn layers\n",
        "                         layers.Conv2D(filters=32, kernel_size=(3,3), activation='relu', input_shape=(32,32,3)),\n",
        "                         layers.MaxPooling2D((2,2)),\n",
        "\n",
        "                         layers.Conv2D(filters=32, kernel_size=(3,3), activation='relu', input_shape=(32,32,3)),\n",
        "                         layers.MaxPooling2D((2,2)),\n",
        "\n",
        "                         # dense layers\n",
        "                        layers.Flatten(),\n",
        "                        layers.Dense(64, activation='relu'),\n",
        "                        layers.Dense(10, activation='softmax')\n",
        "])\n",
        "\n",
        "cnn.compile(optimizer='adam',\n",
        "            loss='sparse_categorical_crossentropy',\n",
        "            metrics=['accuracy'])\n",
        "cnn.fit(X_train, y_train, epochs=10)"
      ],
      "metadata": {
        "colab": {
          "base_uri": "https://localhost:8080/"
        },
        "id": "AWPKHESnj0Yo",
        "outputId": "636ee536-ba70-40d1-a3f7-d96834597f73"
      },
      "execution_count": null,
      "outputs": [
        {
          "output_type": "stream",
          "name": "stdout",
          "text": [
            "Epoch 1/10\n",
            "1563/1563 [==============================] - 53s 33ms/step - loss: 1.5353 - accuracy: 0.4469\n",
            "Epoch 2/10\n",
            "1563/1563 [==============================] - 52s 33ms/step - loss: 1.2034 - accuracy: 0.5769\n",
            "Epoch 3/10\n",
            "1563/1563 [==============================] - 52s 33ms/step - loss: 1.0831 - accuracy: 0.6204\n",
            "Epoch 4/10\n",
            "1563/1563 [==============================] - 52s 33ms/step - loss: 1.0044 - accuracy: 0.6498\n",
            "Epoch 5/10\n",
            "1563/1563 [==============================] - 51s 33ms/step - loss: 0.9485 - accuracy: 0.6684\n",
            "Epoch 6/10\n",
            "1563/1563 [==============================] - 51s 33ms/step - loss: 0.9023 - accuracy: 0.6861\n",
            "Epoch 7/10\n",
            "1563/1563 [==============================] - 51s 33ms/step - loss: 0.8605 - accuracy: 0.6995\n",
            "Epoch 8/10\n",
            "1563/1563 [==============================] - 51s 33ms/step - loss: 0.8246 - accuracy: 0.7130\n",
            "Epoch 9/10\n",
            "1563/1563 [==============================] - 51s 33ms/step - loss: 0.7933 - accuracy: 0.7212\n",
            "Epoch 10/10\n",
            "1563/1563 [==============================] - 51s 33ms/step - loss: 0.7623 - accuracy: 0.7352\n"
          ]
        },
        {
          "output_type": "execute_result",
          "data": {
            "text/plain": [
              "<keras.callbacks.History at 0x7fe860433e50>"
            ]
          },
          "metadata": {},
          "execution_count": 20
        }
      ]
    },
    {
      "cell_type": "code",
      "source": [
        "cnn.evaluate(X_test, y_test)"
      ],
      "metadata": {
        "colab": {
          "base_uri": "https://localhost:8080/"
        },
        "id": "q3d04rf5nEGH",
        "outputId": "0b21a819-540b-4e7c-9a75-73c5df451d1c"
      },
      "execution_count": null,
      "outputs": [
        {
          "output_type": "stream",
          "name": "stdout",
          "text": [
            "313/313 [==============================] - 3s 10ms/step - loss: 0.9438 - accuracy: 0.6814\n"
          ]
        },
        {
          "output_type": "execute_result",
          "data": {
            "text/plain": [
              "[0.9438046813011169, 0.6814000010490417]"
            ]
          },
          "metadata": {},
          "execution_count": 21
        }
      ]
    },
    {
      "cell_type": "code",
      "source": [
        "y_test = y_test.reshape(-1,)\n",
        "y_test[:5]"
      ],
      "metadata": {
        "colab": {
          "base_uri": "https://localhost:8080/"
        },
        "id": "N2ejE3NyoXug",
        "outputId": "3532bc34-e79d-4e8e-e25d-6f57d061692d"
      },
      "execution_count": null,
      "outputs": [
        {
          "output_type": "execute_result",
          "data": {
            "text/plain": [
              "array([3, 8, 8, 0, 6], dtype=uint8)"
            ]
          },
          "metadata": {},
          "execution_count": 22
        }
      ]
    },
    {
      "cell_type": "code",
      "source": [
        "plot_sample(X_test, y_test, 1)"
      ],
      "metadata": {
        "colab": {
          "base_uri": "https://localhost:8080/",
          "height": 173
        },
        "id": "9S43J_Dgoea_",
        "outputId": "2d0e2b69-44f7-4a38-ce3b-5a636c6b2b93"
      },
      "execution_count": null,
      "outputs": [
        {
          "output_type": "display_data",
          "data": {
            "text/plain": [
              "<Figure size 1080x144 with 1 Axes>"
            ],
            "image/png": "[encoded data removed]"
          },
          "metadata": {
            "needs_background": "light"
          }
        }
      ]
    },
    {
      "cell_type": "code",
      "source": [
        "y_pred = cnn.predict(X_test)\n",
        "y_pred[:5]"
      ],
      "metadata": {
        "colab": {
          "base_uri": "https://localhost:8080/"
        },
        "id": "EY4ugvBQonum",
        "outputId": "49c55e96-a08a-4800-991e-6a1258b5485b"
      },
      "execution_count": null,
      "outputs": [
        {
          "output_type": "execute_result",
          "data": {
            "text/plain": [
              "array([[2.7404502e-03, 1.7713252e-05, 2.0712815e-02, 7.1616936e-01,\n",
              "        5.0377130e-04, 2.4578296e-01, 8.6877020e-03, 1.2146910e-03,\n",
              "        3.7657393e-03, 4.0477750e-04],\n",
              "       [2.9884232e-02, 3.0107893e-02, 1.0169683e-05, 1.0889800e-07,\n",
              "        1.2318444e-07, 6.4594052e-10, 6.5958607e-09, 1.0717555e-09,\n",
              "        9.3979919e-01, 1.9830554e-04],\n",
              "       [8.3310254e-02, 4.4887807e-02, 7.5435652e-03, 2.0834727e-03,\n",
              "        9.3676645e-05, 1.7102457e-04, 3.8962742e-05, 7.8380958e-04,\n",
              "        8.5262334e-01, 8.4640859e-03],\n",
              "       [4.7332695e-01, 1.7751530e-02, 7.7790059e-03, 1.2326844e-04,\n",
              "        4.0246504e-03, 1.4488763e-05, 2.1899359e-04, 3.1473887e-06,\n",
              "        4.9649319e-01, 2.6470306e-04],\n",
              "       [2.5244981e-06, 1.1138608e-05, 3.9287917e-02, 1.0749704e-02,\n",
              "        4.8821744e-01, 9.7777473e-04, 4.6070677e-01, 1.3986903e-05,\n",
              "        2.8878432e-05, 3.9238480e-06]], dtype=float32)"
            ]
          },
          "metadata": {},
          "execution_count": 24
        }
      ]
    },
    {
      "cell_type": "code",
      "source": [
        "y_classes = [np.argmax(element) for element in y_pred]\n",
        "y_classes[:5]"
      ],
      "metadata": {
        "colab": {
          "base_uri": "https://localhost:8080/"
        },
        "id": "icX_WeL5ouY2",
        "outputId": "794a56a4-2d4a-4137-870d-7983fb390d71"
      },
      "execution_count": null,
      "outputs": [
        {
          "output_type": "execute_result",
          "data": {
            "text/plain": [
              "[3, 8, 8, 8, 4]"
            ]
          },
          "metadata": {},
          "execution_count": 26
        }
      ]
    },
    {
      "cell_type": "code",
      "source": [
        "y_test[:5]"
      ],
      "metadata": {
        "colab": {
          "base_uri": "https://localhost:8080/"
        },
        "id": "Ron63RlJpBgg",
        "outputId": "f916dc26-e100-49f9-ef89-98e589acba82"
      },
      "execution_count": null,
      "outputs": [
        {
          "output_type": "execute_result",
          "data": {
            "text/plain": [
              "array([3, 8, 8, 0, 6], dtype=uint8)"
            ]
          },
          "metadata": {},
          "execution_count": 27
        }
      ]
    },
    {
      "cell_type": "code",
      "source": [
        "print(\"Classification Report: \\n\", classification_report(y_test, y_classes))"
      ],
      "metadata": {
        "colab": {
          "base_uri": "https://localhost:8080/"
        },
        "id": "ZuF08o8vpFcA",
        "outputId": "eb5c452d-96c9-4ada-8a11-e6bb019b5cfb"
      },
      "execution_count": null,
      "outputs": [
        {
          "output_type": "stream",
          "name": "stdout",
          "text": [
            "Classification Report: \n",
            "               precision    recall  f1-score   support\n",
            "\n",
            "           0       0.62      0.82      0.71      1000\n",
            "           1       0.82      0.76      0.79      1000\n",
            "           2       0.54      0.61      0.57      1000\n",
            "           3       0.50      0.53      0.51      1000\n",
            "           4       0.70      0.54      0.61      1000\n",
            "           5       0.62      0.54      0.58      1000\n",
            "           6       0.81      0.70      0.75      1000\n",
            "           7       0.75      0.75      0.75      1000\n",
            "           8       0.77      0.78      0.78      1000\n",
            "           9       0.77      0.78      0.77      1000\n",
            "\n",
            "    accuracy                           0.68     10000\n",
            "   macro avg       0.69      0.68      0.68     10000\n",
            "weighted avg       0.69      0.68      0.68     10000\n",
            "\n"
          ]
        }
      ]
    }
  ]
}